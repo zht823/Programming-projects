{
 "cells": [
  {
   "cell_type": "markdown",
   "metadata": {},
   "source": [
    "# Programming Assignment 1\n",
    "# MATH-UA 250 Mathematics of Finance\n",
    "# Portfolio Management"
   ]
  },
  {
   "cell_type": "code",
   "execution_count": 40,
   "metadata": {},
   "outputs": [
    {
     "data": {
      "text/plain": [
       "sys.version_info(major=3, minor=5, micro=4, releaselevel='final', serial=0)"
      ]
     },
     "execution_count": 40,
     "metadata": {},
     "output_type": "execute_result"
    }
   ],
   "source": [
    "import sys\n",
    "sys.version\n",
    "sys.version_info"
   ]
  },
  {
   "cell_type": "markdown",
   "metadata": {},
   "source": [
    "\n",
    "# Useful Python code\n",
    "\n",
    "https://pandas.pydata.org/pandas-docs/stable/10min.html\n",
    "https://pandas.pydata.org/pandas-docs/stable/visualization.html\n"
   ]
  },
  {
   "cell_type": "code",
   "execution_count": 41,
   "metadata": {
    "collapsed": true
   },
   "outputs": [],
   "source": [
    "%matplotlib inline\n",
    "\n",
    "import matplotlib\n",
    "import numpy as np\n",
    "import matplotlib.pyplot as plt\n",
    "import pandas as pd"
   ]
  },
  {
   "cell_type": "markdown",
   "metadata": {},
   "source": [
    "#  File Contents\n",
    "Returns to the following asset classes are contained in the file\n",
    " * \"MSCI WORLD\"\n",
    " * \"MSCI AC WORLD\"    \n",
    " * \"MSCI EUROPE\"\n",
    " * \"MSCI EM\"\n",
    " * \"MSCI EAFE\"        \n",
    " * \"MSCI PACIFIC\"\n",
    " * \"MSCI USA\"\n",
    " * \"Treasury.Bond.10Y\"\n",
    " * \"Treasury.Bill.90D\"\n",
    "\n",
    "\n",
    " <span style=\"color:blue\">Our set of risky assets for the analysis is  MSCI EUROPE, MSCI USA , MSCI PACIFIC, Treasury.Bond.10Y </span>\n"
   ]
  },
  {
   "cell_type": "code",
   "execution_count": 42,
   "metadata": {},
   "outputs": [
    {
     "name": "stdout",
     "output_type": "stream",
     "text": [
      "C:\\Users\\Joseph\\Dropbox\\NYU\\MathFin\\ReturnsPortfolios.csv\n"
     ]
    }
   ],
   "source": [
    "#\n",
    "# read in the data\n",
    "\n",
    "inpath  = \"C:\\\\Users\\\\Joseph\\\\Dropbox\\\\NYU\\\\MathFin\\\\\"\n",
    "outpath = \"C:\\\\Users\\\\Joseph\\\\Dropbox\\\\NYU\\\\MathFin\\\\code_R\\\\ReturnsPortfolios\\\\\"\n",
    "\n",
    "infile  = \"ReturnsPortfolios.csv\"\n",
    "\n",
    "print(inpath+infile)\n",
    "indata = pd.read_csv( inpath + infile)\n"
   ]
  },
  {
   "cell_type": "code",
   "execution_count": 43,
   "metadata": {},
   "outputs": [
    {
     "data": {
      "text/html": [
       "<div>\n",
       "<style scoped>\n",
       "    .dataframe tbody tr th:only-of-type {\n",
       "        vertical-align: middle;\n",
       "    }\n",
       "\n",
       "    .dataframe tbody tr th {\n",
       "        vertical-align: top;\n",
       "    }\n",
       "\n",
       "    .dataframe thead th {\n",
       "        text-align: right;\n",
       "    }\n",
       "</style>\n",
       "<table border=\"1\" class=\"dataframe\">\n",
       "  <thead>\n",
       "    <tr style=\"text-align: right;\">\n",
       "      <th></th>\n",
       "      <th>Date</th>\n",
       "      <th>MSCI WORLD</th>\n",
       "      <th>MSCI AC WORLD</th>\n",
       "      <th>MSCI EUROPE</th>\n",
       "      <th>MSCI EM</th>\n",
       "      <th>MSCI EAFE</th>\n",
       "      <th>MSCI PACIFIC</th>\n",
       "      <th>MSCI USA</th>\n",
       "      <th>Treasury.Bond.10Y</th>\n",
       "      <th>Treasury.Bill.90D</th>\n",
       "      <th>Treasury.Bill.30D</th>\n",
       "    </tr>\n",
       "  </thead>\n",
       "  <tbody>\n",
       "    <tr>\n",
       "      <th>0</th>\n",
       "      <td>1/29/1988</td>\n",
       "      <td>0.024592</td>\n",
       "      <td>0.025330</td>\n",
       "      <td>-0.040626</td>\n",
       "      <td>0.098380</td>\n",
       "      <td>0.018081</td>\n",
       "      <td>0.049747</td>\n",
       "      <td>0.042834</td>\n",
       "      <td>0.044235</td>\n",
       "      <td>0.005001</td>\n",
       "      <td>0.002762</td>\n",
       "    </tr>\n",
       "    <tr>\n",
       "      <th>1</th>\n",
       "      <td>2/29/1988</td>\n",
       "      <td>0.058224</td>\n",
       "      <td>0.058079</td>\n",
       "      <td>0.059266</td>\n",
       "      <td>0.003396</td>\n",
       "      <td>0.066914</td>\n",
       "      <td>0.070676</td>\n",
       "      <td>0.041869</td>\n",
       "      <td>0.013917</td>\n",
       "      <td>0.005349</td>\n",
       "      <td>0.004564</td>\n",
       "    </tr>\n",
       "    <tr>\n",
       "      <th>2</th>\n",
       "      <td>3/31/1988</td>\n",
       "      <td>0.030382</td>\n",
       "      <td>0.031100</td>\n",
       "      <td>0.027948</td>\n",
       "      <td>0.107385</td>\n",
       "      <td>0.061675</td>\n",
       "      <td>0.078041</td>\n",
       "      <td>-0.033456</td>\n",
       "      <td>-0.019930</td>\n",
       "      <td>0.004803</td>\n",
       "      <td>0.004402</td>\n",
       "    </tr>\n",
       "    <tr>\n",
       "      <th>3</th>\n",
       "      <td>4/29/1988</td>\n",
       "      <td>0.012798</td>\n",
       "      <td>0.012980</td>\n",
       "      <td>0.019014</td>\n",
       "      <td>0.053382</td>\n",
       "      <td>0.014717</td>\n",
       "      <td>0.012751</td>\n",
       "      <td>0.009184</td>\n",
       "      <td>-0.012511</td>\n",
       "      <td>0.004554</td>\n",
       "      <td>0.004577</td>\n",
       "    </tr>\n",
       "    <tr>\n",
       "      <th>4</th>\n",
       "      <td>5/31/1988</td>\n",
       "      <td>-0.019802</td>\n",
       "      <td>-0.019521</td>\n",
       "      <td>-0.018278</td>\n",
       "      <td>0.029962</td>\n",
       "      <td>-0.031833</td>\n",
       "      <td>-0.038039</td>\n",
       "      <td>0.008603</td>\n",
       "      <td>-0.015848</td>\n",
       "      <td>0.005027</td>\n",
       "      <td>0.005051</td>\n",
       "    </tr>\n",
       "  </tbody>\n",
       "</table>\n",
       "</div>"
      ],
      "text/plain": [
       "        Date  MSCI WORLD  MSCI AC WORLD  MSCI EUROPE   MSCI EM  MSCI EAFE  \\\n",
       "0  1/29/1988    0.024592       0.025330    -0.040626  0.098380   0.018081   \n",
       "1  2/29/1988    0.058224       0.058079     0.059266  0.003396   0.066914   \n",
       "2  3/31/1988    0.030382       0.031100     0.027948  0.107385   0.061675   \n",
       "3  4/29/1988    0.012798       0.012980     0.019014  0.053382   0.014717   \n",
       "4  5/31/1988   -0.019802      -0.019521    -0.018278  0.029962  -0.031833   \n",
       "\n",
       "   MSCI PACIFIC  MSCI USA  Treasury.Bond.10Y  Treasury.Bill.90D  \\\n",
       "0      0.049747  0.042834           0.044235           0.005001   \n",
       "1      0.070676  0.041869           0.013917           0.005349   \n",
       "2      0.078041 -0.033456          -0.019930           0.004803   \n",
       "3      0.012751  0.009184          -0.012511           0.004554   \n",
       "4     -0.038039  0.008603          -0.015848           0.005027   \n",
       "\n",
       "   Treasury.Bill.30D  \n",
       "0           0.002762  \n",
       "1           0.004564  \n",
       "2           0.004402  \n",
       "3           0.004577  \n",
       "4           0.005051  "
      ]
     },
     "execution_count": 43,
     "metadata": {},
     "output_type": "execute_result"
    }
   ],
   "source": [
    "indata.head(5)"
   ]
  },
  {
   "cell_type": "code",
   "execution_count": 44,
   "metadata": {
    "collapsed": true
   },
   "outputs": [],
   "source": [
    "RiskyAsset     = [\"MSCI EUROPE\",\"MSCI USA\",\"MSCI PACIFIC\",\"Treasury.Bond.10Y\"]\n",
    "RiskFreeAsset  = \"Treasury.Bill.90D\"\n"
   ]
  },
  {
   "cell_type": "code",
   "execution_count": 45,
   "metadata": {},
   "outputs": [
    {
     "data": {
      "text/html": [
       "<div>\n",
       "<style scoped>\n",
       "    .dataframe tbody tr th:only-of-type {\n",
       "        vertical-align: middle;\n",
       "    }\n",
       "\n",
       "    .dataframe tbody tr th {\n",
       "        vertical-align: top;\n",
       "    }\n",
       "\n",
       "    .dataframe thead th {\n",
       "        text-align: right;\n",
       "    }\n",
       "</style>\n",
       "<table border=\"1\" class=\"dataframe\">\n",
       "  <thead>\n",
       "    <tr style=\"text-align: right;\">\n",
       "      <th></th>\n",
       "      <th>MSCI EUROPE</th>\n",
       "      <th>MSCI USA</th>\n",
       "      <th>MSCI PACIFIC</th>\n",
       "      <th>Treasury.Bond.10Y</th>\n",
       "    </tr>\n",
       "  </thead>\n",
       "  <tbody>\n",
       "    <tr>\n",
       "      <th>1</th>\n",
       "      <td>0.059266</td>\n",
       "      <td>0.041869</td>\n",
       "      <td>0.070676</td>\n",
       "      <td>0.013917</td>\n",
       "    </tr>\n",
       "    <tr>\n",
       "      <th>2</th>\n",
       "      <td>0.027948</td>\n",
       "      <td>-0.033456</td>\n",
       "      <td>0.078041</td>\n",
       "      <td>-0.019930</td>\n",
       "    </tr>\n",
       "    <tr>\n",
       "      <th>3</th>\n",
       "      <td>0.019014</td>\n",
       "      <td>0.009184</td>\n",
       "      <td>0.012751</td>\n",
       "      <td>-0.012511</td>\n",
       "    </tr>\n",
       "  </tbody>\n",
       "</table>\n",
       "</div>"
      ],
      "text/plain": [
       "   MSCI EUROPE  MSCI USA  MSCI PACIFIC  Treasury.Bond.10Y\n",
       "1     0.059266  0.041869      0.070676           0.013917\n",
       "2     0.027948 -0.033456      0.078041          -0.019930\n",
       "3     0.019014  0.009184      0.012751          -0.012511"
      ]
     },
     "execution_count": 45,
     "metadata": {},
     "output_type": "execute_result"
    }
   ],
   "source": [
    "# \n",
    "# print out forst 3 rows and all columns of risky assets\n",
    "indata.loc[1:3,RiskyAsset]"
   ]
  },
  {
   "cell_type": "markdown",
   "metadata": {},
   "source": [
    "\n",
    "## <span style=\"color:blue\">Part 1: Risky Assets Analysis</span>\n",
    "\n",
    " Create a table calculating a-h for the risky assets:\n",
    "1. mean\n",
    "2.\tmedian\n",
    "3.\tstandard deviations \n",
    "4.\tskew \n",
    "5.\tkurtosis\n",
    "6.  return - risk ratio \n",
    "7.  plot the assets classes on a return - risk graph   \n",
    "8.  Write up a paragraph comparing the statistics of the risky assets\n"
   ]
  },
  {
   "cell_type": "code",
   "execution_count": 46,
   "metadata": {},
   "outputs": [
    {
     "data": {
      "text/plain": [
       "MSCI EUROPE          0.007798\n",
       "MSCI USA             0.009155\n",
       "MSCI PACIFIC         0.003608\n",
       "Treasury.Bond.10Y    0.005627\n",
       "dtype: float64"
      ]
     },
     "execution_count": 46,
     "metadata": {},
     "output_type": "execute_result"
    }
   ],
   "source": [
    "indata[RiskyAsset].mean()"
   ]
  },
  {
   "cell_type": "markdown",
   "metadata": {},
   "source": [
    "\n",
    "## <span style=\"color:blue\">Part 2:  Distributions </span>\n",
    "Plot the distributions for each asset class\n",
    "\n",
    "Compare the distribution"
   ]
  },
  {
   "cell_type": "code",
   "execution_count": 47,
   "metadata": {
    "scrolled": true
   },
   "outputs": [
    {
     "data": {
      "text/plain": [
       "<matplotlib.axes._subplots.AxesSubplot at 0xa7124a8>"
      ]
     },
     "execution_count": 47,
     "metadata": {},
     "output_type": "execute_result"
    },
    {
     "data": {
      "image/png": "[encoded data removed]",
      "text/plain": [
       "<matplotlib.figure.Figure at 0xa754a20>"
      ]
     },
     "metadata": {},
     "output_type": "display_data"
    }
   ],
   "source": [
    "indata[\"MSCI EUROPE\"].plot.hist(stacked=True, bins=20)"
   ]
  },
  {
   "cell_type": "markdown",
   "metadata": {},
   "source": [
    "## <span style=\"color:blue\"> Part 3: Covariance and Correlation Matrices  </span>\n",
    "\n",
    " 1.\tCalculate the covariance matrix \n",
    " 2. Calculate the correlation matrix\n",
    " 3.\tVerify the covariance matrix is non-singular\n",
    " 4.\tVerify the covariance matrix is symmetric and positive definite\n"
   ]
  },
  {
   "cell_type": "markdown",
   "metadata": {},
   "source": [
    "## <span style=\"color:blue\">Part 4: Calculate the weights, returns and risks for the following portfolios     </span>\n",
    " 1.\tMinimum variance portfolio\n",
    " 2. Portfolio with expected return of 9% and minimum variance\n",
    " 3. Efficicent frontier (calculate the weights, returns and risk of at least 7 portfolios)\n",
    " 4. Plot the portfolios and asset classes on a graph\n",
    " 5. Plot an equal weighted portolio on the graph\n",
    " 6. What is the expected return and risk of the minimum variance portfolio\n",
    "  "
   ]
  },
  {
   "cell_type": "markdown",
   "metadata": {},
   "source": [
    "## <span style=\"color:blue\">Part 5: Calculate the beta (t-stat, R-square) of each the risk asset class to the following 2 'market' portfolios   </span>\n",
    "\n",
    "  Market Portfolio 1: \"MSCI AC WORLD\"    \n",
    "  Market Portfolio 2: \"MSCI USA\"\n",
    "  \n",
    "  Compare the betas for each asset class\n"
   ]
  },
  {
   "cell_type": "markdown",
   "metadata": {},
   "source": [
    "## <span style=\"color:blue\">Part 6: Extra Credit </span>\n",
    "\n",
    "Exponentially Weighted Moving Average Covariance Matrix\n",
    "An exponentially weighted moving average (EWMA) puts more weight on the more recent observations, and thus takes some account of the dynamic ordering in returns.  When an EWMA is applied to squared returns the resulting volatility estimate will react immediately following an unusually large return.  Then the effect of this return in the EWMA gradually diminishes over time.  The reaction of EWMA volatility estimates to market events therefore persist over time, and with a strength determined by the smoothing constant \\lambda.  This is a number between 0 and 1.  The larger the value of \\lambda the more weight is placed on past observations and so the smoother the series becomes.  (Alexander, 2001)\n",
    "\n",
    "Look up how to calculate a covariance matrix using EWMA\n",
    "Calculate the 4 minimum variance portfolio with this matrix using 4 different \\lambdas.  Compare the weights for these 4 different \\lambdas and the equal weighted (normal covariance matrix from Part 3)\n"
   ]
  }
 ],
 "metadata": {
  "kernelspec": {
   "display_name": "Python [default]",
   "language": "python",
   "name": "python3"
  },
  "language_info": {
   "codemirror_mode": {
    "name": "ipython",
    "version": 3
   },
   "file_extension": ".py",
   "mimetype": "text/x-python",
   "name": "python",
   "nbconvert_exporter": "python",
   "pygments_lexer": "ipython3",
   "version": "3.5.4"
  }
 },
 "nbformat": 4,
 "nbformat_minor": 2
}
